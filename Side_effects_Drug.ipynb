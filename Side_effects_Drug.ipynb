{
  "cells": [
    {
      "cell_type": "markdown",
      "metadata": {
        "id": "Ewzi0SGCePPf"
      },
      "source": [
        "## Prediction model for side effects of drugs"
      ],
      "id": "Ewzi0SGCePPf"
    },
    {
      "cell_type": "code",
      "execution_count": null,
      "metadata": {
        "id": "6dda8f05"
      },
      "outputs": [],
      "source": [
        "#importing the libraries\n",
        "import matplotlib.pyplot as plt\n",
        "import numpy as np\n",
        "import pandas as pd\n",
        "import matplotlib.style as stl\n",
        "import seaborn as sns\n",
        "import sklearn as skl"
      ],
      "id": "6dda8f05"
    },
    {
      "cell_type": "code",
      "execution_count": null,
      "metadata": {
        "id": "99c92d00"
      },
      "outputs": [],
      "source": [
        "import warnings\n",
        "warnings.filterwarnings(action=\"ignore\")"
      ],
      "id": "99c92d00"
    },
    {
      "cell_type": "code",
      "execution_count": null,
      "metadata": {
        "colab": {
          "base_uri": "https://localhost:8080/",
          "height": 73,
          "resources": {
            "http://localhost:8080/nbextensions/google.colab/files.js": {
              "data": "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",
              "headers": [
                [
                  "content-type",
                  "application/javascript"
                ]
              ],
              "ok": true,
              "status": 200,
              "status_text": ""
            }
          }
        },
        "id": "X8F_ScV4chRq",
        "outputId": "dea18d6c-f56d-4b64-f5bf-875e1d1eb581"
      },
      "outputs": [
        {
          "output_type": "display_data",
          "data": {
            "text/plain": [
              "<IPython.core.display.HTML object>"
            ],
            "text/html": [
              "\n",
              "     <input type=\"file\" id=\"files-3cb73060-931c-41d8-a35d-8cf9879b7268\" name=\"files[]\" multiple disabled\n",
              "        style=\"border:none\" />\n",
              "     <output id=\"result-3cb73060-931c-41d8-a35d-8cf9879b7268\">\n",
              "      Upload widget is only available when the cell has been executed in the\n",
              "      current browser session. Please rerun this cell to enable.\n",
              "      </output>\n",
              "      <script src=\"/nbextensions/google.colab/files.js\"></script> "
            ]
          },
          "metadata": {}
        },
        {
          "output_type": "stream",
          "name": "stdout",
          "text": [
            "Saving drugsideeffects.csv to drugsideeffects.csv\n"
          ]
        }
      ],
      "source": [
        "from google.colab import files\n",
        "uploaded = files.upload()"
      ],
      "id": "X8F_ScV4chRq"
    },
    {
      "cell_type": "code",
      "execution_count": null,
      "metadata": {
        "id": "100361a4"
      },
      "outputs": [],
      "source": [
        "# importing data set in to python envirinment\n",
        "pd.set_option(\"display.max_columns\", None)\n",
        "data=pd.read_csv('drugsideeffects.csv')"
      ],
      "id": "100361a4"
    },
    {
      "cell_type": "code",
      "execution_count": null,
      "metadata": {
        "colab": {
          "base_uri": "https://localhost:8080/"
        },
        "id": "CYk79ueFIGY4",
        "outputId": "8ba700cc-deb9-4b07-94aa-6e6dc292d2ce"
      },
      "outputs": [
        {
          "output_type": "execute_result",
          "data": {
            "text/plain": [
              "(308352, 5)"
            ]
          },
          "metadata": {},
          "execution_count": 6
        }
      ],
      "source": [
        "data.shape"
      ],
      "id": "CYk79ueFIGY4"
    },
    {
      "cell_type": "code",
      "execution_count": null,
      "metadata": {
        "colab": {
          "base_uri": "https://localhost:8080/",
          "height": 424
        },
        "id": "49f26ab6",
        "outputId": "535a234b-48cf-446e-b3cc-170a675fc84f"
      },
      "outputs": [
        {
          "output_type": "execute_result",
          "data": {
            "text/plain": [
              "             urlDrugName  rating           effectiveness  \\\n",
              "0              enalapril       4        Highly Effective   \n",
              "1       ortho-tri-cyclen       1        Highly Effective   \n",
              "2                ponstel      10        Highly Effective   \n",
              "3               prilosec       3    Marginally Effective   \n",
              "4                 lyrica       2    Marginally Effective   \n",
              "...                  ...     ...                     ...   \n",
              "308347          differin       8  Considerably Effective   \n",
              "308348           imitrex       8  Considerably Effective   \n",
              "308349          prilosec      10        Highly Effective   \n",
              "308350           fosamax       1             Ineffective   \n",
              "308351            cialis      10        Highly Effective   \n",
              "\n",
              "                                     condition                    sideEffects  \n",
              "0       management of congestive heart failure              Mild Side Effects  \n",
              "1                             birth prevention            Severe Side Effects  \n",
              "2                             menstrual cramps                No Side Effects  \n",
              "3                                  acid reflux              Mild Side Effects  \n",
              "4                                 fibromyalgia            Severe Side Effects  \n",
              "...                                        ...                            ...  \n",
              "308347                                    acne              Mild Side Effects  \n",
              "308348                               migraines              Mild Side Effects  \n",
              "308349                             acid reflux                No Side Effects  \n",
              "308350                   possible osteoporosis  Extremely Severe Side Effects  \n",
              "308351                                      ed              Mild Side Effects  \n",
              "\n",
              "[308352 rows x 5 columns]"
            ],
            "text/html": [
              "\n",
              "  <div id=\"df-87756fe2-fbe8-4ea2-9821-57744bdf259b\">\n",
              "    <div class=\"colab-df-container\">\n",
              "      <div>\n",
              "<style scoped>\n",
              "    .dataframe tbody tr th:only-of-type {\n",
              "        vertical-align: middle;\n",
              "    }\n",
              "\n",
              "    .dataframe tbody tr th {\n",
              "        vertical-align: top;\n",
              "    }\n",
              "\n",
              "    .dataframe thead th {\n",
              "        text-align: right;\n",
              "    }\n",
              "</style>\n",
              "<table border=\"1\" class=\"dataframe\">\n",
              "  <thead>\n",
              "    <tr style=\"text-align: right;\">\n",
              "      <th></th>\n",
              "      <th>urlDrugName</th>\n",
              "      <th>rating</th>\n",
              "      <th>effectiveness</th>\n",
              "      <th>condition</th>\n",
              "      <th>sideEffects</th>\n",
              "    </tr>\n",
              "  </thead>\n",
              "  <tbody>\n",
              "    <tr>\n",
              "      <th>0</th>\n",
              "      <td>enalapril</td>\n",
              "      <td>4</td>\n",
              "      <td>Highly Effective</td>\n",
              "      <td>management of congestive heart failure</td>\n",
              "      <td>Mild Side Effects</td>\n",
              "    </tr>\n",
              "    <tr>\n",
              "      <th>1</th>\n",
              "      <td>ortho-tri-cyclen</td>\n",
              "      <td>1</td>\n",
              "      <td>Highly Effective</td>\n",
              "      <td>birth prevention</td>\n",
              "      <td>Severe Side Effects</td>\n",
              "    </tr>\n",
              "    <tr>\n",
              "      <th>2</th>\n",
              "      <td>ponstel</td>\n",
              "      <td>10</td>\n",
              "      <td>Highly Effective</td>\n",
              "      <td>menstrual cramps</td>\n",
              "      <td>No Side Effects</td>\n",
              "    </tr>\n",
              "    <tr>\n",
              "      <th>3</th>\n",
              "      <td>prilosec</td>\n",
              "      <td>3</td>\n",
              "      <td>Marginally Effective</td>\n",
              "      <td>acid reflux</td>\n",
              "      <td>Mild Side Effects</td>\n",
              "    </tr>\n",
              "    <tr>\n",
              "      <th>4</th>\n",
              "      <td>lyrica</td>\n",
              "      <td>2</td>\n",
              "      <td>Marginally Effective</td>\n",
              "      <td>fibromyalgia</td>\n",
              "      <td>Severe Side Effects</td>\n",
              "    </tr>\n",
              "    <tr>\n",
              "      <th>...</th>\n",
              "      <td>...</td>\n",
              "      <td>...</td>\n",
              "      <td>...</td>\n",
              "      <td>...</td>\n",
              "      <td>...</td>\n",
              "    </tr>\n",
              "    <tr>\n",
              "      <th>308347</th>\n",
              "      <td>differin</td>\n",
              "      <td>8</td>\n",
              "      <td>Considerably Effective</td>\n",
              "      <td>acne</td>\n",
              "      <td>Mild Side Effects</td>\n",
              "    </tr>\n",
              "    <tr>\n",
              "      <th>308348</th>\n",
              "      <td>imitrex</td>\n",
              "      <td>8</td>\n",
              "      <td>Considerably Effective</td>\n",
              "      <td>migraines</td>\n",
              "      <td>Mild Side Effects</td>\n",
              "    </tr>\n",
              "    <tr>\n",
              "      <th>308349</th>\n",
              "      <td>prilosec</td>\n",
              "      <td>10</td>\n",
              "      <td>Highly Effective</td>\n",
              "      <td>acid reflux</td>\n",
              "      <td>No Side Effects</td>\n",
              "    </tr>\n",
              "    <tr>\n",
              "      <th>308350</th>\n",
              "      <td>fosamax</td>\n",
              "      <td>1</td>\n",
              "      <td>Ineffective</td>\n",
              "      <td>possible osteoporosis</td>\n",
              "      <td>Extremely Severe Side Effects</td>\n",
              "    </tr>\n",
              "    <tr>\n",
              "      <th>308351</th>\n",
              "      <td>cialis</td>\n",
              "      <td>10</td>\n",
              "      <td>Highly Effective</td>\n",
              "      <td>ed</td>\n",
              "      <td>Mild Side Effects</td>\n",
              "    </tr>\n",
              "  </tbody>\n",
              "</table>\n",
              "<p>308352 rows × 5 columns</p>\n",
              "</div>\n",
              "      <button class=\"colab-df-convert\" onclick=\"convertToInteractive('df-87756fe2-fbe8-4ea2-9821-57744bdf259b')\"\n",
              "              title=\"Convert this dataframe to an interactive table.\"\n",
              "              style=\"display:none;\">\n",
              "        \n",
              "  <svg xmlns=\"http://www.w3.org/2000/svg\" height=\"24px\"viewBox=\"0 0 24 24\"\n",
              "       width=\"24px\">\n",
              "    <path d=\"M0 0h24v24H0V0z\" fill=\"none\"/>\n",
              "    <path d=\"M18.56 5.44l.94 2.06.94-2.06 2.06-.94-2.06-.94-.94-2.06-.94 2.06-2.06.94zm-11 1L8.5 8.5l.94-2.06 2.06-.94-2.06-.94L8.5 2.5l-.94 2.06-2.06.94zm10 10l.94 2.06.94-2.06 2.06-.94-2.06-.94-.94-2.06-.94 2.06-2.06.94z\"/><path d=\"M17.41 7.96l-1.37-1.37c-.4-.4-.92-.59-1.43-.59-.52 0-1.04.2-1.43.59L10.3 9.45l-7.72 7.72c-.78.78-.78 2.05 0 2.83L4 21.41c.39.39.9.59 1.41.59.51 0 1.02-.2 1.41-.59l7.78-7.78 2.81-2.81c.8-.78.8-2.07 0-2.86zM5.41 20L4 18.59l7.72-7.72 1.47 1.35L5.41 20z\"/>\n",
              "  </svg>\n",
              "      </button>\n",
              "      \n",
              "  <style>\n",
              "    .colab-df-container {\n",
              "      display:flex;\n",
              "      flex-wrap:wrap;\n",
              "      gap: 12px;\n",
              "    }\n",
              "\n",
              "    .colab-df-convert {\n",
              "      background-color: #E8F0FE;\n",
              "      border: none;\n",
              "      border-radius: 50%;\n",
              "      cursor: pointer;\n",
              "      display: none;\n",
              "      fill: #1967D2;\n",
              "      height: 32px;\n",
              "      padding: 0 0 0 0;\n",
              "      width: 32px;\n",
              "    }\n",
              "\n",
              "    .colab-df-convert:hover {\n",
              "      background-color: #E2EBFA;\n",
              "      box-shadow: 0px 1px 2px rgba(60, 64, 67, 0.3), 0px 1px 3px 1px rgba(60, 64, 67, 0.15);\n",
              "      fill: #174EA6;\n",
              "    }\n",
              "\n",
              "    [theme=dark] .colab-df-convert {\n",
              "      background-color: #3B4455;\n",
              "      fill: #D2E3FC;\n",
              "    }\n",
              "\n",
              "    [theme=dark] .colab-df-convert:hover {\n",
              "      background-color: #434B5C;\n",
              "      box-shadow: 0px 1px 3px 1px rgba(0, 0, 0, 0.15);\n",
              "      filter: drop-shadow(0px 1px 2px rgba(0, 0, 0, 0.3));\n",
              "      fill: #FFFFFF;\n",
              "    }\n",
              "  </style>\n",
              "\n",
              "      <script>\n",
              "        const buttonEl =\n",
              "          document.querySelector('#df-87756fe2-fbe8-4ea2-9821-57744bdf259b button.colab-df-convert');\n",
              "        buttonEl.style.display =\n",
              "          google.colab.kernel.accessAllowed ? 'block' : 'none';\n",
              "\n",
              "        async function convertToInteractive(key) {\n",
              "          const element = document.querySelector('#df-87756fe2-fbe8-4ea2-9821-57744bdf259b');\n",
              "          const dataTable =\n",
              "            await google.colab.kernel.invokeFunction('convertToInteractive',\n",
              "                                                     [key], {});\n",
              "          if (!dataTable) return;\n",
              "\n",
              "          const docLinkHtml = 'Like what you see? Visit the ' +\n",
              "            '<a target=\"_blank\" href=https://colab.research.google.com/notebooks/data_table.ipynb>data table notebook</a>'\n",
              "            + ' to learn more about interactive tables.';\n",
              "          element.innerHTML = '';\n",
              "          dataTable['output_type'] = 'display_data';\n",
              "          await google.colab.output.renderOutput(dataTable, element);\n",
              "          const docLink = document.createElement('div');\n",
              "          docLink.innerHTML = docLinkHtml;\n",
              "          element.appendChild(docLink);\n",
              "        }\n",
              "      </script>\n",
              "    </div>\n",
              "  </div>\n",
              "  "
            ]
          },
          "metadata": {},
          "execution_count": 7
        }
      ],
      "source": [
        "#display data\n",
        "data"
      ],
      "id": "49f26ab6"
    },
    {
      "cell_type": "code",
      "execution_count": null,
      "metadata": {
        "colab": {
          "base_uri": "https://localhost:8080/"
        },
        "id": "fc2502e9",
        "outputId": "8507067a-6c10-4d54-c641-0e2602ce2e28"
      },
      "outputs": [
        {
          "output_type": "stream",
          "name": "stdout",
          "text": [
            "<class 'pandas.core.frame.DataFrame'>\n",
            "RangeIndex: 308352 entries, 0 to 308351\n",
            "Data columns (total 5 columns):\n",
            " #   Column         Non-Null Count   Dtype \n",
            "---  ------         --------------   ----- \n",
            " 0   urlDrugName    308352 non-null  object\n",
            " 1   rating         308352 non-null  int64 \n",
            " 2   effectiveness  308352 non-null  object\n",
            " 3   condition      308256 non-null  object\n",
            " 4   sideEffects    308352 non-null  object\n",
            "dtypes: int64(1), object(4)\n",
            "memory usage: 11.8+ MB\n"
          ]
        }
      ],
      "source": [
        "data.info()"
      ],
      "id": "fc2502e9"
    },
    {
      "cell_type": "code",
      "execution_count": null,
      "metadata": {
        "colab": {
          "base_uri": "https://localhost:8080/"
        },
        "id": "2141ea2e",
        "outputId": "2d9d3bc1-a226-41fd-f679-95c0d6075708"
      },
      "outputs": [
        {
          "output_type": "execute_result",
          "data": {
            "text/plain": [
              "urlDrugName       502\n",
              "rating             10\n",
              "effectiveness       5\n",
              "condition        1426\n",
              "sideEffects         5\n",
              "dtype: int64"
            ]
          },
          "metadata": {},
          "execution_count": 9
        }
      ],
      "source": [
        "data.nunique()"
      ],
      "id": "2141ea2e"
    },
    {
      "cell_type": "code",
      "execution_count": null,
      "metadata": {
        "colab": {
          "base_uri": "https://localhost:8080/"
        },
        "id": "b5d1ad82",
        "outputId": "2877754d-822c-4451-e73f-3dab60f19ad3"
      },
      "outputs": [
        {
          "output_type": "execute_result",
          "data": {
            "text/plain": [
              "rating\n",
              "10        73587\n",
              "8         55473\n",
              "9         47580\n",
              "7         34710\n",
              "1         30195\n",
              "5         15804\n",
              "6         15747\n",
              "3         14376\n",
              "4         10677\n",
              "2         10203\n",
              "dtype: int64"
            ]
          },
          "metadata": {},
          "execution_count": 10
        }
      ],
      "source": [
        "data.value_counts(['rating'])"
      ],
      "id": "b5d1ad82"
    },
    {
      "cell_type": "code",
      "execution_count": null,
      "metadata": {
        "colab": {
          "base_uri": "https://localhost:8080/"
        },
        "id": "219ac1b8",
        "outputId": "d6b1e2f6-950a-41e2-a629-95649d9d6c25"
      },
      "outputs": [
        {
          "output_type": "execute_result",
          "data": {
            "text/plain": [
              "effectiveness         \n",
              "Highly Effective          131760\n",
              "Considerably Effective     92283\n",
              "Moderately Effective       41235\n",
              "Ineffective                24552\n",
              "Marginally Effective       18522\n",
              "dtype: int64"
            ]
          },
          "metadata": {},
          "execution_count": 11
        }
      ],
      "source": [
        "data.value_counts(['effectiveness'])"
      ],
      "id": "219ac1b8"
    },
    {
      "cell_type": "code",
      "execution_count": null,
      "metadata": {
        "colab": {
          "base_uri": "https://localhost:8080/"
        },
        "id": "94e4b7a9",
        "outputId": "f953e683-8a36-4b35-94a5-05ea1009a6b0"
      },
      "outputs": [
        {
          "output_type": "execute_result",
          "data": {
            "text/plain": [
              "sideEffects                  \n",
              "Mild Side Effects                101454\n",
              "No Side Effects                   92160\n",
              "Moderate Side Effects             60819\n",
              "Severe Side Effects               36699\n",
              "Extremely Severe Side Effects     17220\n",
              "dtype: int64"
            ]
          },
          "metadata": {},
          "execution_count": 12
        }
      ],
      "source": [
        "data.value_counts(['sideEffects'])"
      ],
      "id": "94e4b7a9"
    },
    {
      "cell_type": "code",
      "execution_count": null,
      "metadata": {
        "colab": {
          "base_uri": "https://localhost:8080/"
        },
        "id": "74f586e5",
        "outputId": "9741c435-e9a2-44c2-9163-017dd9ab65ee"
      },
      "outputs": [
        {
          "output_type": "execute_result",
          "data": {
            "text/plain": [
              "urlDrugName\n",
              "lexapro        6303\n",
              "prozac         4581\n",
              "zoloft         4500\n",
              "retin-a        4440\n",
              "propecia       3828\n",
              "               ... \n",
              "proloprim        96\n",
              "bystolic         96\n",
              "hytrin           96\n",
              "hyoscyamine      96\n",
              "zyvox            96\n",
              "Length: 502, dtype: int64"
            ]
          },
          "metadata": {},
          "execution_count": 13
        }
      ],
      "source": [
        "data.value_counts(['urlDrugName'])"
      ],
      "id": "74f586e5"
    },
    {
      "cell_type": "code",
      "execution_count": null,
      "metadata": {
        "colab": {
          "base_uri": "https://localhost:8080/"
        },
        "id": "c346cf92",
        "outputId": "646c6663-1f3b-451d-f79c-cf92c0e6e16a"
      },
      "outputs": [
        {
          "output_type": "execute_result",
          "data": {
            "text/plain": [
              "urlDrugName      object\n",
              "rating            int64\n",
              "effectiveness    object\n",
              "condition        object\n",
              "sideEffects      object\n",
              "dtype: object"
            ]
          },
          "metadata": {},
          "execution_count": 14
        }
      ],
      "source": [
        "data.dtypes"
      ],
      "id": "c346cf92"
    },
    {
      "cell_type": "markdown",
      "metadata": {
        "id": "CZdMLvJdeu26"
      },
      "source": [
        "##Exploratory Data Analysis"
      ],
      "id": "CZdMLvJdeu26"
    },
    {
      "cell_type": "markdown",
      "metadata": {
        "id": "mwRwJXmCfXtH"
      },
      "source": [
        "###Univariate Analysis"
      ],
      "id": "mwRwJXmCfXtH"
    },
    {
      "cell_type": "code",
      "execution_count": null,
      "metadata": {
        "colab": {
          "base_uri": "https://localhost:8080/",
          "height": 301
        },
        "id": "ee0d3d6c",
        "outputId": "f213a119-1d75-48e1-f23a-cd52cb2a53a5"
      },
      "outputs": [
        {
          "output_type": "execute_result",
          "data": {
            "text/plain": [
              "Text(0, 0.5, 'Counts')"
            ]
          },
          "metadata": {},
          "execution_count": 15
        },
        {
          "output_type": "display_data",
          "data": {
            "text/plain": [
              "<Figure size 432x288 with 1 Axes>"
            ],
            "image/png": "[encoded data removed]"
          },
          "metadata": {
            "needs_background": "light"
          }
        }
      ],
      "source": [
        "data[\"rating\"].value_counts().plot(kind=\"bar\",color=[\"salmon\",\"lightblue\"]);\n",
        "plt.title(\"Rating\")\n",
        "plt.ylabel(\"Counts\")"
      ],
      "id": "ee0d3d6c"
    },
    {
      "cell_type": "markdown",
      "metadata": {
        "id": "7cktAVkTgTJZ"
      },
      "source": [
        "-- rating"
      ],
      "id": "7cktAVkTgTJZ"
    },
    {
      "cell_type": "code",
      "execution_count": null,
      "metadata": {
        "colab": {
          "base_uri": "https://localhost:8080/",
          "height": 592
        },
        "id": "ca1d9801",
        "outputId": "c2142f61-b045-48ac-d886-f24930d8ff7d"
      },
      "outputs": [
        {
          "output_type": "execute_result",
          "data": {
            "text/plain": [
              "<matplotlib.axes._subplots.AxesSubplot at 0x7fb4b4a984d0>"
            ]
          },
          "metadata": {},
          "execution_count": 16
        },
        {
          "output_type": "display_data",
          "data": {
            "text/plain": [
              "<Figure size 1152x720 with 1 Axes>"
            ],
            "image/png": "[encoded data removed]"
          },
          "metadata": {}
        }
      ],
      "source": [
        "data.effectiveness.value_counts().plot(kind=\"pie\",figsize=(16,10))"
      ],
      "id": "ca1d9801"
    },
    {
      "cell_type": "code",
      "execution_count": null,
      "metadata": {
        "colab": {
          "base_uri": "https://localhost:8080/",
          "height": 592
        },
        "id": "iVTE-9emfzix",
        "outputId": "1151922a-541d-4d51-de33-9b3970f00ac1"
      },
      "outputs": [
        {
          "output_type": "execute_result",
          "data": {
            "text/plain": [
              "<matplotlib.axes._subplots.AxesSubplot at 0x7fb4b45c2390>"
            ]
          },
          "metadata": {},
          "execution_count": 17
        },
        {
          "output_type": "display_data",
          "data": {
            "text/plain": [
              "<Figure size 1152x720 with 1 Axes>"
            ],
            "image/png": "[encoded data removed]"
          },
          "metadata": {}
        }
      ],
      "source": [
        "data.sideEffects.value_counts().plot(kind=\"pie\",figsize=(16,10))"
      ],
      "id": "iVTE-9emfzix"
    },
    {
      "cell_type": "code",
      "execution_count": null,
      "metadata": {
        "colab": {
          "base_uri": "https://localhost:8080/",
          "height": 657
        },
        "id": "41007506",
        "outputId": "f1b5911f-c2ec-4eb4-dfdd-6ff8d9c1027b"
      },
      "outputs": [
        {
          "output_type": "display_data",
          "data": {
            "text/plain": [
              "<Figure size 792x648 with 1 Axes>"
            ],
            "image/png": "[encoded data removed]"
          },
          "metadata": {
            "needs_background": "light"
          }
        }
      ],
      "source": [
        "#frequency graph of dataset\n",
        "freqgraph=data.select_dtypes(include=['float64','int64'])\n",
        "freqgraph.hist(figsize=(11,9))\n",
        "plt.tight_layout()\n",
        "plt.show()"
      ],
      "id": "41007506"
    },
    {
      "cell_type": "code",
      "execution_count": null,
      "metadata": {
        "colab": {
          "base_uri": "https://localhost:8080/",
          "height": 296
        },
        "id": "3ce56190",
        "outputId": "4fde6e31-2c3d-40b3-b14e-384d048848a8"
      },
      "outputs": [
        {
          "output_type": "execute_result",
          "data": {
            "text/plain": [
              "<matplotlib.axes._subplots.AxesSubplot at 0x7fb4b44c1fd0>"
            ]
          },
          "metadata": {},
          "execution_count": 19
        },
        {
          "output_type": "display_data",
          "data": {
            "text/plain": [
              "<Figure size 432x288 with 1 Axes>"
            ],
            "image/png": "[encoded data removed]"
          },
          "metadata": {
            "needs_background": "light"
          }
        }
      ],
      "source": [
        "sns.scatterplot(data['effectiveness'],data['sideEffects'],color=\"red\")"
      ],
      "id": "3ce56190"
    },
    {
      "cell_type": "code",
      "execution_count": null,
      "metadata": {
        "colab": {
          "base_uri": "https://localhost:8080/",
          "height": 296
        },
        "id": "e08fa187",
        "outputId": "7a2cbdc7-2609-4d5b-9db2-79439092b7e4"
      },
      "outputs": [
        {
          "output_type": "execute_result",
          "data": {
            "text/plain": [
              "<matplotlib.axes._subplots.AxesSubplot at 0x7fb4b1c72650>"
            ]
          },
          "metadata": {},
          "execution_count": 20
        },
        {
          "output_type": "display_data",
          "data": {
            "text/plain": [
              "<Figure size 432x288 with 1 Axes>"
            ],
            "image/png": "[encoded data removed]"
          },
          "metadata": {
            "needs_background": "light"
          }
        }
      ],
      "source": [
        "sns.scatterplot(data['urlDrugName'],data['sideEffects'],color=\"red\")"
      ],
      "id": "e08fa187"
    },
    {
      "cell_type": "code",
      "execution_count": null,
      "metadata": {
        "colab": {
          "base_uri": "https://localhost:8080/",
          "height": 296
        },
        "id": "Cd-DywJiyLsE",
        "outputId": "3a37b289-4b2b-402c-9293-ceea5a7622e6"
      },
      "outputs": [
        {
          "output_type": "execute_result",
          "data": {
            "text/plain": [
              "<matplotlib.axes._subplots.AxesSubplot at 0x7fb4b16cb590>"
            ]
          },
          "metadata": {},
          "execution_count": 21
        },
        {
          "output_type": "display_data",
          "data": {
            "text/plain": [
              "<Figure size 432x288 with 1 Axes>"
            ],
            "image/png": "[encoded data removed]"
          },
          "metadata": {
            "needs_background": "light"
          }
        }
      ],
      "source": [
        "sns.countplot(x=\"rating\",data=data,hue=\"sideEffects\")"
      ],
      "id": "Cd-DywJiyLsE"
    },
    {
      "cell_type": "code",
      "execution_count": null,
      "metadata": {
        "colab": {
          "base_uri": "https://localhost:8080/",
          "height": 279
        },
        "id": "fdBw8fsD2rtR",
        "outputId": "4b8a4432-bae4-4038-cab5-e59ccf4aa9ac"
      },
      "outputs": [
        {
          "output_type": "display_data",
          "data": {
            "text/plain": [
              "<Figure size 432x288 with 1 Axes>"
            ],
            "image/png": "[encoded data removed]"
          },
          "metadata": {
            "needs_background": "light"
          }
        }
      ],
      "source": [
        "sns.countplot(x=\"effectiveness\",data=data,hue=\"sideEffects\")\n",
        "sns.set(rc={\"figure.figsize\":(20, 7)})"
      ],
      "id": "fdBw8fsD2rtR"
    },
    {
      "cell_type": "code",
      "execution_count": null,
      "metadata": {
        "id": "42ff189a"
      },
      "outputs": [],
      "source": [
        "#from pandas_profiling import ProfileReport\n",
        "#profile = ProfileReport(data, title='data', explorative=True)\n",
        "#profile"
      ],
      "id": "42ff189a"
    },
    {
      "cell_type": "markdown",
      "metadata": {
        "id": "e65e3a8f"
      },
      "source": [
        "# 3. Data pre-processing"
      ],
      "id": "e65e3a8f"
    },
    {
      "cell_type": "markdown",
      "metadata": {
        "id": "126c02a1"
      },
      "source": [
        "### 1. Missing value handiling"
      ],
      "id": "126c02a1"
    },
    {
      "cell_type": "code",
      "execution_count": null,
      "metadata": {
        "colab": {
          "base_uri": "https://localhost:8080/"
        },
        "id": "27c2eb96",
        "outputId": "317701fc-68db-4cbb-8d21-c9ceaf3ae5d2"
      },
      "outputs": [
        {
          "output_type": "execute_result",
          "data": {
            "text/plain": [
              "urlDrugName       0\n",
              "rating            0\n",
              "effectiveness     0\n",
              "condition        96\n",
              "sideEffects       0\n",
              "dtype: int64"
            ]
          },
          "metadata": {},
          "execution_count": 24
        }
      ],
      "source": [
        "#Checking for null values\n",
        "data.isna().sum()"
      ],
      "id": "27c2eb96"
    },
    {
      "cell_type": "code",
      "execution_count": null,
      "metadata": {
        "colab": {
          "base_uri": "https://localhost:8080/"
        },
        "id": "e631a4d6",
        "outputId": "1b473d64-a68c-4767-a026-0d5403d1f63b"
      },
      "outputs": [
        {
          "output_type": "execute_result",
          "data": {
            "text/plain": [
              "condition                                        \n",
              "depression                                           23601\n",
              "acne                                                 16485\n",
              "anxiety                                               6198\n",
              "insomnia                                              5364\n",
              "birth control                                         4824\n",
              "                                                     ...  \n",
              "heart palpitations                                      96\n",
              "heart problem                                           96\n",
              "heavy menses                                            96\n",
              "heavy period                                            96\n",
              "inflammation of throat during bacteria bronchitis       96\n",
              "Length: 1426, dtype: int64"
            ]
          },
          "metadata": {},
          "execution_count": 25
        }
      ],
      "source": [
        "data.value_counts(['condition'])"
      ],
      "id": "e631a4d6"
    },
    {
      "cell_type": "code",
      "execution_count": null,
      "metadata": {
        "id": "e83af2e5"
      },
      "outputs": [],
      "source": [
        "data.dropna(axis=0,inplace=True)\n"
      ],
      "id": "e83af2e5"
    },
    {
      "cell_type": "code",
      "execution_count": null,
      "metadata": {
        "colab": {
          "base_uri": "https://localhost:8080/"
        },
        "id": "2510bcc1",
        "outputId": "788a64e0-807a-49d2-fe6b-ba5204546c56"
      },
      "outputs": [
        {
          "output_type": "execute_result",
          "data": {
            "text/plain": [
              "urlDrugName      0\n",
              "rating           0\n",
              "effectiveness    0\n",
              "condition        0\n",
              "sideEffects      0\n",
              "dtype: int64"
            ]
          },
          "metadata": {},
          "execution_count": 27
        }
      ],
      "source": [
        "data.isna().sum()"
      ],
      "id": "2510bcc1"
    },
    {
      "cell_type": "markdown",
      "metadata": {
        "id": "5f00f8cb"
      },
      "source": [
        "### 2.Outlier detection"
      ],
      "id": "5f00f8cb"
    },
    {
      "cell_type": "code",
      "execution_count": null,
      "metadata": {
        "colab": {
          "base_uri": "https://localhost:8080/",
          "height": 448
        },
        "id": "7f970cd9",
        "outputId": "f9f1fc32-cca4-4896-9f6f-25ad3515e9da"
      },
      "outputs": [
        {
          "output_type": "display_data",
          "data": {
            "text/plain": [
              "<Figure size 1440x504 with 1 Axes>"
            ],
            "image/png": "[encoded data removed]"
          },
          "metadata": {}
        }
      ],
      "source": [
        "# Outlier detection using boxplot\n",
        "for i in ['rating']:\n",
        "  sns.boxplot(x=data[i])\n",
        "  plt.show()"
      ],
      "id": "7f970cd9"
    },
    {
      "cell_type": "markdown",
      "metadata": {
        "id": "uhFS4pUpCVMW"
      },
      "source": [
        "###3.Encoding"
      ],
      "id": "uhFS4pUpCVMW"
    },
    {
      "cell_type": "code",
      "execution_count": null,
      "metadata": {
        "id": "f65d6f22"
      },
      "outputs": [],
      "source": [
        "#import label encoder\n",
        "from sklearn.preprocessing import LabelEncoder\n",
        "#creating an instance LabelEncoder\n",
        "label_en =LabelEncoder()\n",
        "a=[\"urlDrugName\",\"effectiveness\",\"condition\",\"sideEffects\"]\n",
        "for i in np.arange(len(a)):\n",
        "    data[a[i]]=label_en.fit_transform(data[a[i]])"
      ],
      "id": "f65d6f22"
    },
    {
      "cell_type": "markdown",
      "metadata": {
        "id": "s4z--NxiCgu9"
      },
      "source": [
        "###4. Standardization"
      ],
      "id": "s4z--NxiCgu9"
    },
    {
      "cell_type": "code",
      "execution_count": null,
      "metadata": {
        "id": "497d28b7"
      },
      "outputs": [],
      "source": [
        "#Splitting the data\n",
        "y=data[\"sideEffects\"]\n",
        "x=data.drop(['sideEffects'],axis=1)"
      ],
      "id": "497d28b7"
    },
    {
      "cell_type": "code",
      "execution_count": null,
      "metadata": {
        "id": "NLsNyMZlgrgj"
      },
      "outputs": [],
      "source": [
        "#importing StandardScaler\n",
        "from sklearn import preprocessing\n",
        "#creating an instance StandardScaler\n",
        "stdr = preprocessing.StandardScaler()\n",
        "x=stdr.fit_transform(x)"
      ],
      "id": "NLsNyMZlgrgj"
    },
    {
      "cell_type": "markdown",
      "metadata": {
        "id": "uqVRoNFNCri9"
      },
      "source": [
        "Splitting the dataset"
      ],
      "id": "uqVRoNFNCri9"
    },
    {
      "cell_type": "code",
      "execution_count": null,
      "metadata": {
        "colab": {
          "base_uri": "https://localhost:8080/"
        },
        "id": "21468216",
        "outputId": "252de575-9591-44c2-8fcc-9629a3d31851"
      },
      "outputs": [
        {
          "output_type": "stream",
          "name": "stdout",
          "text": [
            "(231192, 4)\n",
            "(231192,)\n",
            "(77064, 4)\n",
            "(77064,)\n"
          ]
        }
      ],
      "source": [
        "from sklearn.model_selection import train_test_split\n",
        "#split the Dataset into train and test\n",
        "x_train,x_test,y_train,y_test= train_test_split(x,y,random_state=42,test_size=0.25)\n",
        "print(x_train.shape)\n",
        "print(y_train.shape)\n",
        "print(x_test.shape)\n",
        "print(y_test.shape)"
      ],
      "id": "21468216"
    },
    {
      "cell_type": "markdown",
      "metadata": {
        "id": "3KtlmdslCwzb"
      },
      "source": [
        "##3.Model Building"
      ],
      "id": "3KtlmdslCwzb"
    },
    {
      "cell_type": "markdown",
      "metadata": {
        "id": "qJPduuJgC7Eh"
      },
      "source": [
        "###1. Random Forest"
      ],
      "id": "qJPduuJgC7Eh"
    },
    {
      "cell_type": "code",
      "execution_count": null,
      "metadata": {
        "id": "42f88a58"
      },
      "outputs": [],
      "source": [
        "from sklearn.ensemble import RandomForestClassifier\n",
        "rf=RandomForestClassifier()\n",
        "rf.fit(x_train,y_train)\n",
        "y_pred=rf.predict(x_test)"
      ],
      "id": "42f88a58"
    },
    {
      "cell_type": "code",
      "execution_count": null,
      "metadata": {
        "id": "6e803d7b"
      },
      "outputs": [],
      "source": [
        "from sklearn.metrics import confusion_matrix, accuracy_score, precision_score, recall_score, f1_score"
      ],
      "id": "6e803d7b"
    },
    {
      "cell_type": "code",
      "execution_count": null,
      "metadata": {
        "colab": {
          "base_uri": "https://localhost:8080/"
        },
        "id": "f4e6cca3",
        "outputId": "dc8853ab-78e7-4f05-e07a-43639aeae401"
      },
      "outputs": [
        {
          "output_type": "stream",
          "name": "stdout",
          "text": [
            "accuracy is : 0.9567242811169937\n",
            "precision is : 0.9572816516219256\n",
            "recall is : 0.9599498231448408\n",
            "F1 score is : 0.9585251729129769\n"
          ]
        }
      ],
      "source": [
        "print(\"accuracy is :\",accuracy_score(y_test,y_pred))\n",
        "print(\"precision is :\",precision_score(y_test,y_pred,average='macro'))\n",
        "print(\"recall is :\",recall_score(y_test,y_pred,average='macro'))\n",
        "print(\"F1 score is :\",f1_score(y_test,y_pred,average='macro'))"
      ],
      "id": "f4e6cca3"
    },
    {
      "cell_type": "code",
      "source": [
        "t=[]\n",
        "t.append(['Random Forest',round(f1_score(y_test,y_pred,average='macro'),5),round(accuracy_score(y_test,y_pred),5),round(precision_score(y_test,y_pred,average='macro'),5),round(recall_score(y_test,y_pred,average='macro'),5)])\n"
      ],
      "metadata": {
        "id": "9slYvsVALAiF"
      },
      "id": "9slYvsVALAiF",
      "execution_count": null,
      "outputs": []
    },
    {
      "cell_type": "markdown",
      "metadata": {
        "id": "7McMVki4DB13"
      },
      "source": [
        "###2.Logistic regression"
      ],
      "id": "7McMVki4DB13"
    },
    {
      "cell_type": "code",
      "execution_count": null,
      "metadata": {
        "id": "9eb33e73"
      },
      "outputs": [],
      "source": [
        "from sklearn.linear_model import LogisticRegression\n",
        "logit_model =LogisticRegression()\n",
        "logit_model.fit(x_train, y_train)\n",
        "y_pred= logit_model.predict(x_test)"
      ],
      "id": "9eb33e73"
    },
    {
      "cell_type": "code",
      "execution_count": null,
      "metadata": {
        "colab": {
          "base_uri": "https://localhost:8080/"
        },
        "id": "2a45316d",
        "outputId": "46be5844-e057-4261-ce8e-d2b9da5cd1df"
      },
      "outputs": [
        {
          "output_type": "stream",
          "name": "stdout",
          "text": [
            "Accuracy is: 0.4760069552579674\n",
            "Precision is: 0.4688172757639987\n",
            "Recall is : 0.4416127738787733\n",
            "f1 score is: 0.44771511961210103\n"
          ]
        }
      ],
      "source": [
        "print(\"Accuracy is:\", accuracy_score(y_test, y_pred))\n",
        "print(\"Precision is:\", precision_score(y_test, y_pred,average='macro'))\n",
        "print(\"Recall is :\", recall_score(y_test,y_pred,average='macro'))\n",
        "print(\"f1 score is:\", f1_score(y_test, y_pred,average='macro'))"
      ],
      "id": "2a45316d"
    },
    {
      "cell_type": "code",
      "source": [
        "t.append(['Logistic regression',round(f1_score(y_test,y_pred,average='macro'),5),round(accuracy_score(y_test,y_pred),5),round(precision_score(y_test,y_pred,average='macro'),5),round(recall_score(y_test,y_pred,average='macro'),5)])\n"
      ],
      "metadata": {
        "id": "cPQ4Jaf9MHQI"
      },
      "id": "cPQ4Jaf9MHQI",
      "execution_count": null,
      "outputs": []
    },
    {
      "cell_type": "markdown",
      "metadata": {
        "id": "1aFEBaK_DSMU"
      },
      "source": [
        "###3. Gaussian"
      ],
      "id": "1aFEBaK_DSMU"
    },
    {
      "cell_type": "code",
      "execution_count": null,
      "metadata": {
        "colab": {
          "base_uri": "https://localhost:8080/"
        },
        "id": "da51bc6b",
        "outputId": "8292850c-1d2d-4a32-d92a-200f08a71370"
      },
      "outputs": [
        {
          "output_type": "execute_result",
          "data": {
            "text/plain": [
              "GaussianNB()"
            ]
          },
          "metadata": {},
          "execution_count": 40
        }
      ],
      "source": [
        "from sklearn.naive_bayes import GaussianNB\n",
        "classifier=GaussianNB()\n",
        "classifier.fit(x_train,y_train)"
      ],
      "id": "da51bc6b"
    },
    {
      "cell_type": "code",
      "execution_count": null,
      "metadata": {
        "colab": {
          "base_uri": "https://localhost:8080/"
        },
        "id": "1be74b6a",
        "outputId": "db9d702c-c685-4dff-9896-95111f727967"
      },
      "outputs": [
        {
          "output_type": "stream",
          "name": "stdout",
          "text": [
            "accuracy is : 0.4760069552579674\n",
            "precision is : 0.4688172757639987\n",
            "recall is : 0.4416127738787733\n",
            "F1 score is : 0.44771511961210103\n"
          ]
        }
      ],
      "source": [
        "\n",
        "print(\"accuracy is :\",accuracy_score(y_test,y_pred))\n",
        "print(\"precision is :\",precision_score(y_test,y_pred,average='macro'))\n",
        "print(\"recall is :\",recall_score(y_test,y_pred,average='macro'))\n",
        "print(\"F1 score is :\",f1_score(y_test,y_pred,average='macro'))"
      ],
      "id": "1be74b6a"
    },
    {
      "cell_type": "code",
      "source": [
        "t.append(['Gaussian',round(f1_score(y_test,y_pred,average='macro'),5),round(accuracy_score(y_test,y_pred),5),round(precision_score(y_test,y_pred,average='macro'),5),round(recall_score(y_test,y_pred,average='macro'),5)])\n"
      ],
      "metadata": {
        "id": "O8jrNER3ML8p"
      },
      "id": "O8jrNER3ML8p",
      "execution_count": null,
      "outputs": []
    },
    {
      "cell_type": "markdown",
      "metadata": {
        "id": "eR_fDgzbDYeC"
      },
      "source": [
        "###4. Decision Tree Classifier"
      ],
      "id": "eR_fDgzbDYeC"
    },
    {
      "cell_type": "code",
      "execution_count": null,
      "metadata": {
        "id": "8ad695d8"
      },
      "outputs": [],
      "source": [
        "from sklearn.tree import DecisionTreeClassifier\n",
        "dt_model=DecisionTreeClassifier()\n",
        "dt_model.fit(x_train,y_train)\n",
        "y_pred=dt_model.predict(x_test)"
      ],
      "id": "8ad695d8"
    },
    {
      "cell_type": "code",
      "execution_count": null,
      "metadata": {
        "colab": {
          "base_uri": "https://localhost:8080/"
        },
        "id": "96f41770",
        "outputId": "b0886400-525f-46aa-e4da-fd47ca4cb72c"
      },
      "outputs": [
        {
          "output_type": "stream",
          "name": "stdout",
          "text": [
            "accuracy is : 0.9568410671649538\n",
            "precision is : 0.9569460499738515\n",
            "recall is : 0.9603479737878565\n",
            "F1 score is : 0.9585185665846968\n"
          ]
        }
      ],
      "source": [
        "\n",
        "print(\"accuracy is :\",accuracy_score(y_test,y_pred))\n",
        "print(\"precision is :\",precision_score(y_test,y_pred,average='macro'))\n",
        "print(\"recall is :\",recall_score(y_test,y_pred,average='macro'))\n",
        "print(\"F1 score is :\",f1_score(y_test,y_pred,average='macro'))"
      ],
      "id": "96f41770"
    },
    {
      "cell_type": "code",
      "source": [
        "t.append(['Decision Tree',round(f1_score(y_test,y_pred,average='macro'),5),round(accuracy_score(y_test,y_pred),5),round(precision_score(y_test,y_pred,average='macro'),5),round(recall_score(y_test,y_pred,average='macro'),5)])\n"
      ],
      "metadata": {
        "id": "BBsREMIMMQZX"
      },
      "id": "BBsREMIMMQZX",
      "execution_count": null,
      "outputs": []
    },
    {
      "cell_type": "markdown",
      "metadata": {
        "id": "yW04CYn5DgBW"
      },
      "source": [
        "### 5.KNN"
      ],
      "id": "yW04CYn5DgBW"
    },
    {
      "cell_type": "code",
      "execution_count": null,
      "metadata": {
        "id": "19a86937"
      },
      "outputs": [],
      "source": [
        "from sklearn.neighbors import KNeighborsClassifier\n",
        "acc_values=[]\n",
        "neighbors=np.arange(3,15)\n",
        "for k in neighbors:\n",
        "    classifier=KNeighborsClassifier(n_neighbors=k, metric='minkowski')\n",
        "    classifier.fit(x_train, y_train)\n",
        "    y_pred= classifier.predict(x_test)\n",
        "    acc=accuracy_score(y_test, y_pred)\n",
        "    acc_values.append(acc)"
      ],
      "id": "19a86937"
    },
    {
      "cell_type": "code",
      "execution_count": null,
      "metadata": {
        "colab": {
          "base_uri": "https://localhost:8080/",
          "height": 465
        },
        "id": "55a88999",
        "outputId": "62b08578-c548-4877-b876-b2b3922b4653"
      },
      "outputs": [
        {
          "output_type": "execute_result",
          "data": {
            "text/plain": [
              "Text(0, 0.5, 'accuracy')"
            ]
          },
          "metadata": {},
          "execution_count": 47
        },
        {
          "output_type": "display_data",
          "data": {
            "text/plain": [
              "<Figure size 1440x504 with 1 Axes>"
            ],
            "image/png": "[encoded data removed]"
          },
          "metadata": {}
        }
      ],
      "source": [
        "plt.plot(neighbors, acc_values, 'o-')\n",
        "plt.xlabel('k value')\n",
        "plt.ylabel('accuracy')"
      ],
      "id": "55a88999"
    },
    {
      "cell_type": "code",
      "execution_count": null,
      "metadata": {
        "id": "d7ae0be2"
      },
      "outputs": [],
      "source": [
        "classifier=KNeighborsClassifier(n_neighbors=11, metric='minkowski')\n",
        "classifier.fit(x_train, y_train)\n",
        "y_pred= classifier.predict(x_test)"
      ],
      "id": "d7ae0be2"
    },
    {
      "cell_type": "code",
      "execution_count": null,
      "metadata": {
        "colab": {
          "base_uri": "https://localhost:8080/"
        },
        "id": "60251172",
        "outputId": "9396734e-050c-4372-bc54-22a9688fa193"
      },
      "outputs": [
        {
          "output_type": "stream",
          "name": "stdout",
          "text": [
            "accuracy is : 0.9563090418353576\n",
            "precision is : 0.9577722857589086\n",
            "recall is : 0.958638003931056\n",
            "F1 score is : 0.9581725872834831\n"
          ]
        }
      ],
      "source": [
        "print(\"accuracy is :\",accuracy_score(y_test,y_pred))\n",
        "print(\"precision is :\",precision_score(y_test,y_pred,average='macro'))\n",
        "print(\"recall is :\",recall_score(y_test,y_pred,average='macro'))\n",
        "print(\"F1 score is :\",f1_score(y_test,y_pred,average='macro'))"
      ],
      "id": "60251172"
    },
    {
      "cell_type": "code",
      "source": [
        "t.append(['KNN',round(f1_score(y_test,y_pred,average='macro'),5),round(accuracy_score(y_test,y_pred),5),round(precision_score(y_test,y_pred,average='macro'),5),round(recall_score(y_test,y_pred,average='macro'),5)])\n"
      ],
      "metadata": {
        "id": "pks1Vv22MVXB"
      },
      "id": "pks1Vv22MVXB",
      "execution_count": null,
      "outputs": []
    },
    {
      "cell_type": "markdown",
      "source": [
        "##6. Gradient Booster"
      ],
      "metadata": {
        "id": "ao8BstPS99yo"
      },
      "id": "ao8BstPS99yo"
    },
    {
      "cell_type": "code",
      "source": [
        "#Gradient Booster\n",
        "from sklearn.ensemble import GradientBoostingClassifier\n",
        "gm=GradientBoostingClassifier()\n",
        "gm.fit(x_train,y_train)\n",
        "y_pred=gm.predict(x_test)"
      ],
      "metadata": {
        "id": "C53rp_i338gP"
      },
      "id": "C53rp_i338gP",
      "execution_count": null,
      "outputs": []
    },
    {
      "cell_type": "code",
      "source": [
        "print(\"accuracy is :\",accuracy_score(y_test,y_pred))\n",
        "print(\"precision is :\",precision_score(y_test,y_pred,average='macro'))\n",
        "print(\"recall is :\",recall_score(y_test,y_pred,average='macro'))\n",
        "print(\"F1 score is :\",f1_score(y_test,y_pred,average='macro'))"
      ],
      "metadata": {
        "colab": {
          "base_uri": "https://localhost:8080/"
        },
        "id": "8y365Gyj384A",
        "outputId": "3ed3da8f-633e-48c7-e611-9ba9a81722be"
      },
      "id": "8y365Gyj384A",
      "execution_count": null,
      "outputs": [
        {
          "output_type": "stream",
          "name": "stdout",
          "text": [
            "accuracy is : 0.6364190802449912\n",
            "precision is : 0.6433707209495977\n",
            "recall is : 0.6433549285026903\n",
            "F1 score is : 0.6409117171779279\n"
          ]
        }
      ]
    },
    {
      "cell_type": "code",
      "source": [
        "t.append(['Gradient Booster',round(f1_score(y_test,y_pred,average='macro'),5),round(accuracy_score(y_test,y_pred),5),round(precision_score(y_test,y_pred,average='macro'),5),round(recall_score(y_test,y_pred,average='macro'),5)])\n"
      ],
      "metadata": {
        "id": "aCWdXhvXMYqD"
      },
      "id": "aCWdXhvXMYqD",
      "execution_count": null,
      "outputs": []
    },
    {
      "cell_type": "markdown",
      "source": [
        "##7. Extreme Gradient Booster"
      ],
      "metadata": {
        "id": "5hWQ0BVf-Ic_"
      },
      "id": "5hWQ0BVf-Ic_"
    },
    {
      "cell_type": "code",
      "source": [
        "#Extreme Gradient Booster\n",
        "from xgboost import\n",
        "xgb=XGBClassifier()\n",
        "xgb.fit(x_train,y_train)\n",
        "y_pred=xgb.predict(x_test)"
      ],
      "metadata": {
        "id": "_aVhh-Kq4dNY"
      },
      "id": "_aVhh-Kq4dNY",
      "execution_count": null,
      "outputs": []
    },
    {
      "cell_type": "code",
      "source": [
        "print(\"accuracy is :\",accuracy_score(y_test,y_pred))\n",
        "print(\"precision is :\",precision_score(y_test,y_pred,average='macro'))\n",
        "print(\"recall is :\",recall_score(y_test,y_pred,average='macro'))\n",
        "print(\"F1 score is :\",f1_score(y_test,y_pred,average='macro'))"
      ],
      "metadata": {
        "colab": {
          "base_uri": "https://localhost:8080/"
        },
        "id": "zlmYKHrY4dZg",
        "outputId": "7ee6c455-36f4-42ab-9362-574b61ccc442"
      },
      "id": "zlmYKHrY4dZg",
      "execution_count": null,
      "outputs": [
        {
          "output_type": "stream",
          "name": "stdout",
          "text": [
            "accuracy is : 0.5906778781272708\n",
            "precision is : 0.5865989377381394\n",
            "recall is : 0.5910288072699396\n",
            "F1 score is : 0.5844760703164459\n"
          ]
        }
      ]
    },
    {
      "cell_type": "code",
      "source": [
        "t.append(['Extreme Gradient Booster',round(f1_score(y_test,y_pred,average='macro'),5),round(accuracy_score(y_test,y_pred),5),round(precision_score(y_test,y_pred,average='macro'),5),round(recall_score(y_test,y_pred,average='macro'),5)])\n"
      ],
      "metadata": {
        "id": "ci7dgZfnPsby"
      },
      "id": "ci7dgZfnPsby",
      "execution_count": null,
      "outputs": []
    },
    {
      "cell_type": "markdown",
      "metadata": {
        "id": "B7UKDTf7DqZL"
      },
      "source": [
        "##4. Fine Tuning"
      ],
      "id": "B7UKDTf7DqZL"
    },
    {
      "cell_type": "code",
      "execution_count": null,
      "metadata": {
        "id": "49361592"
      },
      "outputs": [],
      "source": [
        "from sklearn.model_selection import GridSearchCV"
      ],
      "id": "49361592"
    },
    {
      "cell_type": "code",
      "execution_count": null,
      "metadata": {
        "id": "1105cd71"
      },
      "outputs": [],
      "source": [
        "grid_params = { 'n_neighbors' : [4,6,8,10,12],\n",
        "               'weights' : ['uniform','distance'],\n",
        "               'metric' : ['minkowski','euclidean','manhattan']}"
      ],
      "id": "1105cd71"
    },
    {
      "cell_type": "code",
      "execution_count": null,
      "metadata": {
        "id": "uGZ9UrQ0Um1E"
      },
      "outputs": [],
      "source": [
        "gs = GridSearchCV(KNeighborsClassifier(), grid_params, verbose = 1, cv=3, n_jobs = -1)"
      ],
      "id": "uGZ9UrQ0Um1E"
    },
    {
      "cell_type": "code",
      "execution_count": null,
      "metadata": {
        "colab": {
          "base_uri": "https://localhost:8080/"
        },
        "id": "JaK2B7N6UnFr",
        "outputId": "612b8f6d-0818-42e7-9a17-233a86803cb0"
      },
      "outputs": [
        {
          "output_type": "stream",
          "name": "stdout",
          "text": [
            "Fitting 3 folds for each of 30 candidates, totalling 90 fits\n"
          ]
        }
      ],
      "source": [
        "# fit the model on our train set\n",
        "g_res = gs.fit(x_train, y_train)"
      ],
      "id": "JaK2B7N6UnFr"
    },
    {
      "cell_type": "code",
      "execution_count": null,
      "metadata": {
        "colab": {
          "base_uri": "https://localhost:8080/"
        },
        "id": "-2OS1DgsUnPp",
        "outputId": "3213f550-5da5-4dda-d3c5-0fec25be7b23"
      },
      "outputs": [
        {
          "output_type": "execute_result",
          "data": {
            "text/plain": [
              "0.9564907090210735"
            ]
          },
          "metadata": {},
          "execution_count": 61
        }
      ],
      "source": [
        "g_res.best_score_"
      ],
      "id": "-2OS1DgsUnPp"
    },
    {
      "cell_type": "code",
      "execution_count": null,
      "metadata": {
        "colab": {
          "base_uri": "https://localhost:8080/"
        },
        "id": "pSa0zEoLUt5Y",
        "outputId": "22c15a36-844e-4954-975a-b882178002fe"
      },
      "outputs": [
        {
          "output_type": "execute_result",
          "data": {
            "text/plain": [
              "{'metric': 'minkowski', 'n_neighbors': 12, 'weights': 'uniform'}"
            ]
          },
          "metadata": {},
          "execution_count": 62
        }
      ],
      "source": [
        "g_res.best_params_"
      ],
      "id": "pSa0zEoLUt5Y"
    },
    {
      "cell_type": "code",
      "execution_count": null,
      "metadata": {
        "id": "eHnRretmUuE8"
      },
      "outputs": [],
      "source": [
        "knn = KNeighborsClassifier(n_neighbors = 12, weights = 'uniform',algorithm = 'brute',metric = 'minkowski')\n",
        "y_pred=knn.fit(x_train, y_train)\n",
        "# get a prediction\n",
        "y_pred=knn.predict(x_test)"
      ],
      "id": "eHnRretmUuE8"
    },
    {
      "cell_type": "code",
      "execution_count": null,
      "metadata": {
        "colab": {
          "base_uri": "https://localhost:8080/"
        },
        "id": "3zlITXbeUuK5",
        "outputId": "8c359295-850b-4db6-990b-acb405dcf867"
      },
      "outputs": [
        {
          "output_type": "stream",
          "name": "stdout",
          "text": [
            "accuracy is : 0.9554915394996366\n",
            "precision is : 0.9597872918910518\n",
            "recall is : 0.9569455343118702\n",
            "F1 score is : 0.9582216516972402\n"
          ]
        }
      ],
      "source": [
        "print(\"accuracy is :\",accuracy_score(y_test,y_pred))\n",
        "print(\"precision is :\",precision_score(y_test,y_pred,average='macro'))\n",
        "print(\"recall is :\",recall_score(y_test,y_pred,average='macro'))\n",
        "print(\"F1 score is :\",f1_score(y_test,y_pred,average='macro'))"
      ],
      "id": "3zlITXbeUuK5"
    },
    {
      "cell_type": "code",
      "source": [
        "t.append(['KNN Fine Tuning',round(f1_score(y_test,y_pred,average='macro'),5),round(accuracy_score(y_test,y_pred),5),round(precision_score(y_test,y_pred,average='macro'),5),round(recall_score(y_test,y_pred,average='macro'),5)])\n"
      ],
      "metadata": {
        "id": "plCky03jPw0k"
      },
      "id": "plCky03jPw0k",
      "execution_count": null,
      "outputs": []
    },
    {
      "cell_type": "code",
      "source": [
        "df = pd.DataFrame(t, columns = ['Algorithms', 'F1-Score','Accuracy','Precision','Recall'])\n",
        "df"
      ],
      "metadata": {
        "colab": {
          "base_uri": "https://localhost:8080/",
          "height": 300
        },
        "id": "qTlIdm61P7rO",
        "outputId": "5b530738-7e5b-4102-fd88-b50aaa2715b3"
      },
      "id": "qTlIdm61P7rO",
      "execution_count": null,
      "outputs": [
        {
          "output_type": "execute_result",
          "data": {
            "text/plain": [
              "                 Algorithms  F1-Score  Accuracy  Precision   Recall\n",
              "0             Random Forest   0.95853   0.95672    0.95728  0.95995\n",
              "1       Logistic regression   0.44772   0.47601    0.46882  0.44161\n",
              "2                  Gaussian   0.44772   0.47601    0.46882  0.44161\n",
              "3             Decision Tree   0.95852   0.95684    0.95695  0.96035\n",
              "4                       KNN   0.95817   0.95631    0.95777  0.95864\n",
              "5          Gradient Booster   0.64091   0.63642    0.64337  0.64335\n",
              "6  Extreme Gradient Booster   0.58448   0.59068    0.58660  0.59103\n",
              "7           KNN Fine Tuning   0.95822   0.95549    0.95979  0.95695"
            ],
            "text/html": [
              "\n",
              "  <div id=\"df-945afad0-8362-49cc-969e-5541714c98ce\">\n",
              "    <div class=\"colab-df-container\">\n",
              "      <div>\n",
              "<style scoped>\n",
              "    .dataframe tbody tr th:only-of-type {\n",
              "        vertical-align: middle;\n",
              "    }\n",
              "\n",
              "    .dataframe tbody tr th {\n",
              "        vertical-align: top;\n",
              "    }\n",
              "\n",
              "    .dataframe thead th {\n",
              "        text-align: right;\n",
              "    }\n",
              "</style>\n",
              "<table border=\"1\" class=\"dataframe\">\n",
              "  <thead>\n",
              "    <tr style=\"text-align: right;\">\n",
              "      <th></th>\n",
              "      <th>Algorithms</th>\n",
              "      <th>F1-Score</th>\n",
              "      <th>Accuracy</th>\n",
              "      <th>Precision</th>\n",
              "      <th>Recall</th>\n",
              "    </tr>\n",
              "  </thead>\n",
              "  <tbody>\n",
              "    <tr>\n",
              "      <th>0</th>\n",
              "      <td>Random Forest</td>\n",
              "      <td>0.95853</td>\n",
              "      <td>0.95672</td>\n",
              "      <td>0.95728</td>\n",
              "      <td>0.95995</td>\n",
              "    </tr>\n",
              "    <tr>\n",
              "      <th>1</th>\n",
              "      <td>Logistic regression</td>\n",
              "      <td>0.44772</td>\n",
              "      <td>0.47601</td>\n",
              "      <td>0.46882</td>\n",
              "      <td>0.44161</td>\n",
              "    </tr>\n",
              "    <tr>\n",
              "      <th>2</th>\n",
              "      <td>Gaussian</td>\n",
              "      <td>0.44772</td>\n",
              "      <td>0.47601</td>\n",
              "      <td>0.46882</td>\n",
              "      <td>0.44161</td>\n",
              "    </tr>\n",
              "    <tr>\n",
              "      <th>3</th>\n",
              "      <td>Decision Tree</td>\n",
              "      <td>0.95852</td>\n",
              "      <td>0.95684</td>\n",
              "      <td>0.95695</td>\n",
              "      <td>0.96035</td>\n",
              "    </tr>\n",
              "    <tr>\n",
              "      <th>4</th>\n",
              "      <td>KNN</td>\n",
              "      <td>0.95817</td>\n",
              "      <td>0.95631</td>\n",
              "      <td>0.95777</td>\n",
              "      <td>0.95864</td>\n",
              "    </tr>\n",
              "    <tr>\n",
              "      <th>5</th>\n",
              "      <td>Gradient Booster</td>\n",
              "      <td>0.64091</td>\n",
              "      <td>0.63642</td>\n",
              "      <td>0.64337</td>\n",
              "      <td>0.64335</td>\n",
              "    </tr>\n",
              "    <tr>\n",
              "      <th>6</th>\n",
              "      <td>Extreme Gradient Booster</td>\n",
              "      <td>0.58448</td>\n",
              "      <td>0.59068</td>\n",
              "      <td>0.58660</td>\n",
              "      <td>0.59103</td>\n",
              "    </tr>\n",
              "    <tr>\n",
              "      <th>7</th>\n",
              "      <td>KNN Fine Tuning</td>\n",
              "      <td>0.95822</td>\n",
              "      <td>0.95549</td>\n",
              "      <td>0.95979</td>\n",
              "      <td>0.95695</td>\n",
              "    </tr>\n",
              "  </tbody>\n",
              "</table>\n",
              "</div>\n",
              "      <button class=\"colab-df-convert\" onclick=\"convertToInteractive('df-945afad0-8362-49cc-969e-5541714c98ce')\"\n",
              "              title=\"Convert this dataframe to an interactive table.\"\n",
              "              style=\"display:none;\">\n",
              "        \n",
              "  <svg xmlns=\"http://www.w3.org/2000/svg\" height=\"24px\"viewBox=\"0 0 24 24\"\n",
              "       width=\"24px\">\n",
              "    <path d=\"M0 0h24v24H0V0z\" fill=\"none\"/>\n",
              "    <path d=\"M18.56 5.44l.94 2.06.94-2.06 2.06-.94-2.06-.94-.94-2.06-.94 2.06-2.06.94zm-11 1L8.5 8.5l.94-2.06 2.06-.94-2.06-.94L8.5 2.5l-.94 2.06-2.06.94zm10 10l.94 2.06.94-2.06 2.06-.94-2.06-.94-.94-2.06-.94 2.06-2.06.94z\"/><path d=\"M17.41 7.96l-1.37-1.37c-.4-.4-.92-.59-1.43-.59-.52 0-1.04.2-1.43.59L10.3 9.45l-7.72 7.72c-.78.78-.78 2.05 0 2.83L4 21.41c.39.39.9.59 1.41.59.51 0 1.02-.2 1.41-.59l7.78-7.78 2.81-2.81c.8-.78.8-2.07 0-2.86zM5.41 20L4 18.59l7.72-7.72 1.47 1.35L5.41 20z\"/>\n",
              "  </svg>\n",
              "      </button>\n",
              "      \n",
              "  <style>\n",
              "    .colab-df-container {\n",
              "      display:flex;\n",
              "      flex-wrap:wrap;\n",
              "      gap: 12px;\n",
              "    }\n",
              "\n",
              "    .colab-df-convert {\n",
              "      background-color: #E8F0FE;\n",
              "      border: none;\n",
              "      border-radius: 50%;\n",
              "      cursor: pointer;\n",
              "      display: none;\n",
              "      fill: #1967D2;\n",
              "      height: 32px;\n",
              "      padding: 0 0 0 0;\n",
              "      width: 32px;\n",
              "    }\n",
              "\n",
              "    .colab-df-convert:hover {\n",
              "      background-color: #E2EBFA;\n",
              "      box-shadow: 0px 1px 2px rgba(60, 64, 67, 0.3), 0px 1px 3px 1px rgba(60, 64, 67, 0.15);\n",
              "      fill: #174EA6;\n",
              "    }\n",
              "\n",
              "    [theme=dark] .colab-df-convert {\n",
              "      background-color: #3B4455;\n",
              "      fill: #D2E3FC;\n",
              "    }\n",
              "\n",
              "    [theme=dark] .colab-df-convert:hover {\n",
              "      background-color: #434B5C;\n",
              "      box-shadow: 0px 1px 3px 1px rgba(0, 0, 0, 0.15);\n",
              "      filter: drop-shadow(0px 1px 2px rgba(0, 0, 0, 0.3));\n",
              "      fill: #FFFFFF;\n",
              "    }\n",
              "  </style>\n",
              "\n",
              "      <script>\n",
              "        const buttonEl =\n",
              "          document.querySelector('#df-945afad0-8362-49cc-969e-5541714c98ce button.colab-df-convert');\n",
              "        buttonEl.style.display =\n",
              "          google.colab.kernel.accessAllowed ? 'block' : 'none';\n",
              "\n",
              "        async function convertToInteractive(key) {\n",
              "          const element = document.querySelector('#df-945afad0-8362-49cc-969e-5541714c98ce');\n",
              "          const dataTable =\n",
              "            await google.colab.kernel.invokeFunction('convertToInteractive',\n",
              "                                                     [key], {});\n",
              "          if (!dataTable) return;\n",
              "\n",
              "          const docLinkHtml = 'Like what you see? Visit the ' +\n",
              "            '<a target=\"_blank\" href=https://colab.research.google.com/notebooks/data_table.ipynb>data table notebook</a>'\n",
              "            + ' to learn more about interactive tables.';\n",
              "          element.innerHTML = '';\n",
              "          dataTable['output_type'] = 'display_data';\n",
              "          await google.colab.output.renderOutput(dataTable, element);\n",
              "          const docLink = document.createElement('div');\n",
              "          docLink.innerHTML = docLinkHtml;\n",
              "          element.appendChild(docLink);\n",
              "        }\n",
              "      </script>\n",
              "    </div>\n",
              "  </div>\n",
              "  "
            ]
          },
          "metadata": {},
          "execution_count": 66
        }
      ]
    },
    {
      "cell_type": "code",
      "execution_count": null,
      "metadata": {
        "colab": {
          "base_uri": "https://localhost:8080/",
          "height": 363
        },
        "id": "mSQ5HDnQU5RL",
        "outputId": "a1520716-897f-418f-afe5-7314b693a71d"
      },
      "outputs": [
        {
          "output_type": "execute_result",
          "data": {
            "text/plain": [
              "        Predicted Data  Test Data\n",
              "173000               1          1\n",
              "76857                3          3\n",
              "198765               3          3\n",
              "236177               2          2\n",
              "147281               0          0\n",
              "229324               0          0\n",
              "151323               3          3\n",
              "83028                1          1\n",
              "37675                3          3\n",
              "223225               1          1"
            ],
            "text/html": [
              "\n",
              "  <div id=\"df-34ccb014-d88c-4ab0-9f3b-8df6025942e3\">\n",
              "    <div class=\"colab-df-container\">\n",
              "      <div>\n",
              "<style scoped>\n",
              "    .dataframe tbody tr th:only-of-type {\n",
              "        vertical-align: middle;\n",
              "    }\n",
              "\n",
              "    .dataframe tbody tr th {\n",
              "        vertical-align: top;\n",
              "    }\n",
              "\n",
              "    .dataframe thead th {\n",
              "        text-align: right;\n",
              "    }\n",
              "</style>\n",
              "<table border=\"1\" class=\"dataframe\">\n",
              "  <thead>\n",
              "    <tr style=\"text-align: right;\">\n",
              "      <th></th>\n",
              "      <th>Predicted Data</th>\n",
              "      <th>Test Data</th>\n",
              "    </tr>\n",
              "  </thead>\n",
              "  <tbody>\n",
              "    <tr>\n",
              "      <th>173000</th>\n",
              "      <td>1</td>\n",
              "      <td>1</td>\n",
              "    </tr>\n",
              "    <tr>\n",
              "      <th>76857</th>\n",
              "      <td>3</td>\n",
              "      <td>3</td>\n",
              "    </tr>\n",
              "    <tr>\n",
              "      <th>198765</th>\n",
              "      <td>3</td>\n",
              "      <td>3</td>\n",
              "    </tr>\n",
              "    <tr>\n",
              "      <th>236177</th>\n",
              "      <td>2</td>\n",
              "      <td>2</td>\n",
              "    </tr>\n",
              "    <tr>\n",
              "      <th>147281</th>\n",
              "      <td>0</td>\n",
              "      <td>0</td>\n",
              "    </tr>\n",
              "    <tr>\n",
              "      <th>229324</th>\n",
              "      <td>0</td>\n",
              "      <td>0</td>\n",
              "    </tr>\n",
              "    <tr>\n",
              "      <th>151323</th>\n",
              "      <td>3</td>\n",
              "      <td>3</td>\n",
              "    </tr>\n",
              "    <tr>\n",
              "      <th>83028</th>\n",
              "      <td>1</td>\n",
              "      <td>1</td>\n",
              "    </tr>\n",
              "    <tr>\n",
              "      <th>37675</th>\n",
              "      <td>3</td>\n",
              "      <td>3</td>\n",
              "    </tr>\n",
              "    <tr>\n",
              "      <th>223225</th>\n",
              "      <td>1</td>\n",
              "      <td>1</td>\n",
              "    </tr>\n",
              "  </tbody>\n",
              "</table>\n",
              "</div>\n",
              "      <button class=\"colab-df-convert\" onclick=\"convertToInteractive('df-34ccb014-d88c-4ab0-9f3b-8df6025942e3')\"\n",
              "              title=\"Convert this dataframe to an interactive table.\"\n",
              "              style=\"display:none;\">\n",
              "        \n",
              "  <svg xmlns=\"http://www.w3.org/2000/svg\" height=\"24px\"viewBox=\"0 0 24 24\"\n",
              "       width=\"24px\">\n",
              "    <path d=\"M0 0h24v24H0V0z\" fill=\"none\"/>\n",
              "    <path d=\"M18.56 5.44l.94 2.06.94-2.06 2.06-.94-2.06-.94-.94-2.06-.94 2.06-2.06.94zm-11 1L8.5 8.5l.94-2.06 2.06-.94-2.06-.94L8.5 2.5l-.94 2.06-2.06.94zm10 10l.94 2.06.94-2.06 2.06-.94-2.06-.94-.94-2.06-.94 2.06-2.06.94z\"/><path d=\"M17.41 7.96l-1.37-1.37c-.4-.4-.92-.59-1.43-.59-.52 0-1.04.2-1.43.59L10.3 9.45l-7.72 7.72c-.78.78-.78 2.05 0 2.83L4 21.41c.39.39.9.59 1.41.59.51 0 1.02-.2 1.41-.59l7.78-7.78 2.81-2.81c.8-.78.8-2.07 0-2.86zM5.41 20L4 18.59l7.72-7.72 1.47 1.35L5.41 20z\"/>\n",
              "  </svg>\n",
              "      </button>\n",
              "      \n",
              "  <style>\n",
              "    .colab-df-container {\n",
              "      display:flex;\n",
              "      flex-wrap:wrap;\n",
              "      gap: 12px;\n",
              "    }\n",
              "\n",
              "    .colab-df-convert {\n",
              "      background-color: #E8F0FE;\n",
              "      border: none;\n",
              "      border-radius: 50%;\n",
              "      cursor: pointer;\n",
              "      display: none;\n",
              "      fill: #1967D2;\n",
              "      height: 32px;\n",
              "      padding: 0 0 0 0;\n",
              "      width: 32px;\n",
              "    }\n",
              "\n",
              "    .colab-df-convert:hover {\n",
              "      background-color: #E2EBFA;\n",
              "      box-shadow: 0px 1px 2px rgba(60, 64, 67, 0.3), 0px 1px 3px 1px rgba(60, 64, 67, 0.15);\n",
              "      fill: #174EA6;\n",
              "    }\n",
              "\n",
              "    [theme=dark] .colab-df-convert {\n",
              "      background-color: #3B4455;\n",
              "      fill: #D2E3FC;\n",
              "    }\n",
              "\n",
              "    [theme=dark] .colab-df-convert:hover {\n",
              "      background-color: #434B5C;\n",
              "      box-shadow: 0px 1px 3px 1px rgba(0, 0, 0, 0.15);\n",
              "      filter: drop-shadow(0px 1px 2px rgba(0, 0, 0, 0.3));\n",
              "      fill: #FFFFFF;\n",
              "    }\n",
              "  </style>\n",
              "\n",
              "      <script>\n",
              "        const buttonEl =\n",
              "          document.querySelector('#df-34ccb014-d88c-4ab0-9f3b-8df6025942e3 button.colab-df-convert');\n",
              "        buttonEl.style.display =\n",
              "          google.colab.kernel.accessAllowed ? 'block' : 'none';\n",
              "\n",
              "        async function convertToInteractive(key) {\n",
              "          const element = document.querySelector('#df-34ccb014-d88c-4ab0-9f3b-8df6025942e3');\n",
              "          const dataTable =\n",
              "            await google.colab.kernel.invokeFunction('convertToInteractive',\n",
              "                                                     [key], {});\n",
              "          if (!dataTable) return;\n",
              "\n",
              "          const docLinkHtml = 'Like what you see? Visit the ' +\n",
              "            '<a target=\"_blank\" href=https://colab.research.google.com/notebooks/data_table.ipynb>data table notebook</a>'\n",
              "            + ' to learn more about interactive tables.';\n",
              "          element.innerHTML = '';\n",
              "          dataTable['output_type'] = 'display_data';\n",
              "          await google.colab.output.renderOutput(dataTable, element);\n",
              "          const docLink = document.createElement('div');\n",
              "          docLink.innerHTML = docLinkHtml;\n",
              "          element.appendChild(docLink);\n",
              "        }\n",
              "      </script>\n",
              "    </div>\n",
              "  </div>\n",
              "  "
            ]
          },
          "metadata": {},
          "execution_count": 67
        }
      ],
      "source": [
        "v = pd.DataFrame({'Predicted Data': y_pred, 'Test Data' : y_test})\n",
        "v.sample(10)"
      ],
      "id": "mSQ5HDnQU5RL"
    },
    {
      "cell_type": "markdown",
      "metadata": {
        "id": "qAPWC2nCvwXR"
      },
      "source": [
        "After passing through different models, accuracy of KNN is high as compared to others. Therefore, KNN is choosen as the best model for predicting side effects of drugs dataset.\n",
        "\n"
      ],
      "id": "qAPWC2nCvwXR"
    },
    {
      "cell_type": "code",
      "execution_count": null,
      "metadata": {
        "id": "TPOUJDcqwD-t"
      },
      "outputs": [],
      "source": [],
      "id": "TPOUJDcqwD-t"
    }
  ],
  "metadata": {
    "colab": {
      "provenance": []
    },
    "kernelspec": {
      "display_name": "Python 3",
      "language": "python",
      "name": "python3"
    },
    "language_info": {
      "codemirror_mode": {
        "name": "ipython",
        "version": 3
      },
      "file_extension": ".py",
      "mimetype": "text/x-python",
      "name": "python",
      "nbconvert_exporter": "python",
      "pygments_lexer": "ipython3",
      "version": "3.8.8"
    }
  },
  "nbformat": 4,
  "nbformat_minor": 5
}